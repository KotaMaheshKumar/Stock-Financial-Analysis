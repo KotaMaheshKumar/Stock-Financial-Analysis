{
  "nbformat": 4,
  "nbformat_minor": 0,
  "metadata": {
    "colab": {
      "name": "intro.ipynb",
      "provenance": [],
      "authorship_tag": "ABX9TyO5gpF54GKH9XvxF/IrfIzS",
      "include_colab_link": true
    },
    "kernelspec": {
      "name": "python3",
      "display_name": "Python 3"
    },
    "language_info": {
      "name": "python"
    }
  },
  "cells": [
    {
      "cell_type": "markdown",
      "metadata": {
        "id": "view-in-github",
        "colab_type": "text"
      },
      "source": [
        "<a href=\"https://colab.research.google.com/github/KotaMaheshKumar/Stock-Financial-Analysis/blob/Master/intro.ipynb\" target=\"_parent\"><img src=\"https://colab.research.google.com/assets/colab-badge.svg\" alt=\"Open In Colab\"/></a>"
      ]
    },
    {
      "cell_type": "markdown",
      "metadata": {
        "id": "ATfirmybdtbZ"
      },
      "source": [
        "**In today's world, people trade stocks through online with own decisions, based on the financial data and market information. This notebook presents several aspects of analyzing financial data using data science,combined both python and statistics to provide and extract insights from the stock data.** "
      ]
    }
  ]
}